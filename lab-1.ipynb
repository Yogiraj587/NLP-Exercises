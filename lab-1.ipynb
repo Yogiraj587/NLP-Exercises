{
 "cells": [
  {
   "attachments": {},
   "cell_type": "markdown",
   "metadata": {},
   "source": [
    "## EXP 1"
   ]
  },
  {
   "cell_type": "code",
   "execution_count": 1,
   "metadata": {},
   "outputs": [
    {
     "data": {
      "text/html": [
       "<div>\n",
       "<style scoped>\n",
       "    .dataframe tbody tr th:only-of-type {\n",
       "        vertical-align: middle;\n",
       "    }\n",
       "\n",
       "    .dataframe tbody tr th {\n",
       "        vertical-align: top;\n",
       "    }\n",
       "\n",
       "    .dataframe thead th {\n",
       "        text-align: right;\n",
       "    }\n",
       "</style>\n",
       "<table border=\"1\" class=\"dataframe\">\n",
       "  <thead>\n",
       "    <tr style=\"text-align: right;\">\n",
       "      <th></th>\n",
       "      <th>word</th>\n",
       "    </tr>\n",
       "  </thead>\n",
       "  <tbody>\n",
       "    <tr>\n",
       "      <th>0</th>\n",
       "      <td>cat</td>\n",
       "    </tr>\n",
       "    <tr>\n",
       "      <th>1</th>\n",
       "      <td>dog</td>\n",
       "    </tr>\n",
       "    <tr>\n",
       "      <th>2</th>\n",
       "      <td>cat</td>\n",
       "    </tr>\n",
       "    <tr>\n",
       "      <th>3</th>\n",
       "      <td>cat</td>\n",
       "    </tr>\n",
       "    <tr>\n",
       "      <th>4</th>\n",
       "      <td>dog</td>\n",
       "    </tr>\n",
       "    <tr>\n",
       "      <th>5</th>\n",
       "      <td>fish</td>\n",
       "    </tr>\n",
       "    <tr>\n",
       "      <th>6</th>\n",
       "      <td>ice</td>\n",
       "    </tr>\n",
       "  </tbody>\n",
       "</table>\n",
       "</div>"
      ],
      "text/plain": [
       "   word\n",
       "0   cat\n",
       "1   dog\n",
       "2   cat\n",
       "3   cat\n",
       "4   dog\n",
       "5  fish\n",
       "6   ice"
      ]
     },
     "execution_count": 1,
     "metadata": {},
     "output_type": "execute_result"
    }
   ],
   "source": [
    "# 1a. Create word embeddings with unique values\n",
    "import pandas as pd\n",
    "from sklearn.preprocessing import OneHotEncoder\n",
    "\n",
    "def create_word_embeddings_unique(df, column_name): \n",
    "\n",
    "    ohe = OneHotEncoder(sparse=False) \n",
    "    \n",
    "    unique_words = df[column_name].unique()\n",
    "    print(\"->unique_words \\n \",unique_words)\n",
    "\n",
    "    df_unique_words = pd.DataFrame(unique_words, columns=[column_name])\n",
    "    print(\"->unique_words \\n \",df_unique_words)\n",
    "\n",
    "    word_embeddings = ohe.fit_transform(df_unique_words[[column_name]])\n",
    "    print(\"->word_embeddings \\n \",word_embeddings)\n",
    "\n",
    "    df_word_embeddings = pd.DataFrame(word_embeddings, columns=[str(i) for i in unique_words])\n",
    "    return df_word_embeddings\n",
    "\n",
    "dfo = pd.DataFrame({'word': ['cat', 'dog', 'cat', 'cat', 'dog', \"fish\" , 'ice']})\n",
    "dfo"
   ]
  },
  {
   "cell_type": "code",
   "execution_count": 2,
   "metadata": {},
   "outputs": [
    {
     "name": "stdout",
     "output_type": "stream",
     "text": [
      "->unique_words \n",
      "  ['cat' 'dog' 'fish' 'ice']\n",
      "->unique_words \n",
      "     word\n",
      "0   cat\n",
      "1   dog\n",
      "2  fish\n",
      "3   ice\n",
      "->word_embeddings \n",
      "  [[1. 0. 0. 0.]\n",
      " [0. 1. 0. 0.]\n",
      " [0. 0. 1. 0.]\n",
      " [0. 0. 0. 1.]]\n",
      "Final Result \n",
      "     cat  dog  fish  ice\n",
      "0  1.0  0.0   0.0  0.0\n",
      "1  0.0  1.0   0.0  0.0\n",
      "2  0.0  0.0   1.0  0.0\n",
      "3  0.0  0.0   0.0  1.0\n"
     ]
    }
   ],
   "source": [
    "dfo = create_word_embeddings_unique(dfo, 'word')\n",
    "print(\"Final Result \\n \",dfo)"
   ]
  },
  {
   "cell_type": "code",
   "execution_count": 3,
   "metadata": {},
   "outputs": [
    {
     "data": {
      "text/html": [
       "<div>\n",
       "<style scoped>\n",
       "    .dataframe tbody tr th:only-of-type {\n",
       "        vertical-align: middle;\n",
       "    }\n",
       "\n",
       "    .dataframe tbody tr th {\n",
       "        vertical-align: top;\n",
       "    }\n",
       "\n",
       "    .dataframe thead th {\n",
       "        text-align: right;\n",
       "    }\n",
       "</style>\n",
       "<table border=\"1\" class=\"dataframe\">\n",
       "  <thead>\n",
       "    <tr style=\"text-align: right;\">\n",
       "      <th></th>\n",
       "      <th>word</th>\n",
       "    </tr>\n",
       "  </thead>\n",
       "  <tbody>\n",
       "    <tr>\n",
       "      <th>0</th>\n",
       "      <td>cat</td>\n",
       "    </tr>\n",
       "    <tr>\n",
       "      <th>1</th>\n",
       "      <td>dog</td>\n",
       "    </tr>\n",
       "    <tr>\n",
       "      <th>2</th>\n",
       "      <td>cat</td>\n",
       "    </tr>\n",
       "    <tr>\n",
       "      <th>3</th>\n",
       "      <td>cat</td>\n",
       "    </tr>\n",
       "    <tr>\n",
       "      <th>4</th>\n",
       "      <td>Dog</td>\n",
       "    </tr>\n",
       "    <tr>\n",
       "      <th>5</th>\n",
       "      <td>fish</td>\n",
       "    </tr>\n",
       "    <tr>\n",
       "      <th>6</th>\n",
       "      <td>ice</td>\n",
       "    </tr>\n",
       "  </tbody>\n",
       "</table>\n",
       "</div>"
      ],
      "text/plain": [
       "   word\n",
       "0   cat\n",
       "1   dog\n",
       "2   cat\n",
       "3   cat\n",
       "4   Dog\n",
       "5  fish\n",
       "6   ice"
      ]
     },
     "execution_count": 3,
     "metadata": {},
     "output_type": "execute_result"
    }
   ],
   "source": [
    "# 1b. Create word embeddings without unique values\n",
    "\n",
    "import pandas as pd\n",
    "from sklearn.preprocessing import OneHotEncoder\n",
    "\n",
    "def create_word_embeddings_not_unique(df, column_name): \n",
    "\n",
    "    ohe = OneHotEncoder(sparse=False) \n",
    "\n",
    "    unique_words = df[column_name].unique()\n",
    "\n",
    "    not_unique_words = df[column_name].values\n",
    "    print(\"->not_unique_words \\n \",not_unique_words)\n",
    "\n",
    "    df_not_unique_words = pd.DataFrame(not_unique_words, columns=[column_name])\n",
    "    print(\"->df_not_unique_words \\n \",df_not_unique_words)\n",
    "\n",
    "    word_embeddings = ohe.fit_transform(df_not_unique_words[[column_name]])\n",
    "    print(\"->word_embeddings \\n \",word_embeddings)\n",
    "\n",
    "    df_word_embeddings = pd.DataFrame(word_embeddings, columns=[str(i) for i in unique_words])\n",
    "    return df_word_embeddings\n",
    "\n",
    "dfo = pd.DataFrame({'word': ['cat', 'dog', 'cat', 'cat', 'Dog', \"fish\" , 'ice']})\n",
    "dfo"
   ]
  },
  {
   "cell_type": "code",
   "execution_count": 4,
   "metadata": {},
   "outputs": [
    {
     "name": "stdout",
     "output_type": "stream",
     "text": [
      "->not_unique_words \n",
      "  ['cat' 'dog' 'cat' 'cat' 'Dog' 'fish' 'ice']\n",
      "->df_not_unique_words \n",
      "     word\n",
      "0   cat\n",
      "1   dog\n",
      "2   cat\n",
      "3   cat\n",
      "4   Dog\n",
      "5  fish\n",
      "6   ice\n",
      "->word_embeddings \n",
      "  [[0. 1. 0. 0. 0.]\n",
      " [0. 0. 1. 0. 0.]\n",
      " [0. 1. 0. 0. 0.]\n",
      " [0. 1. 0. 0. 0.]\n",
      " [1. 0. 0. 0. 0.]\n",
      " [0. 0. 0. 1. 0.]\n",
      " [0. 0. 0. 0. 1.]]\n",
      "Final Result \n",
      "     cat  dog  Dog  fish  ice\n",
      "0  0.0  1.0  0.0   0.0  0.0\n",
      "1  0.0  0.0  1.0   0.0  0.0\n",
      "2  0.0  1.0  0.0   0.0  0.0\n",
      "3  0.0  1.0  0.0   0.0  0.0\n",
      "4  1.0  0.0  0.0   0.0  0.0\n",
      "5  0.0  0.0  0.0   1.0  0.0\n",
      "6  0.0  0.0  0.0   0.0  1.0\n"
     ]
    }
   ],
   "source": [
    "dfo = create_word_embeddings_not_unique(dfo, 'word')\n",
    "print(\"Final Result \\n \",dfo)"
   ]
  },
  {
   "attachments": {},
   "cell_type": "markdown",
   "metadata": {},
   "source": [
    "### Exp2 :CountVectorizer"
   ]
  },
  {
   "cell_type": "code",
   "execution_count": 5,
   "metadata": {},
   "outputs": [],
   "source": [
    "from sklearn.feature_extraction.text import CountVectorizer\n",
    "\n",
    "def create_count_vectorizer_values(df, column_name):\n",
    "    \n",
    "    vectorizer = CountVectorizer()\n",
    "    X = vectorizer.fit_transform(df[column_name])\n",
    "\n",
    "    print(\"-> Vectorizer features \\n\" , vectorizer.get_feature_names())\n",
    "    print(\"-> Vectors \\n\" , X.toarray())\n",
    "\n",
    "    df_one_hot_encoding = pd.DataFrame(X.toarray(), columns=vectorizer.get_feature_names())\n",
    "    print(\"-> One Hot encoded values \\n\", df_one_hot_encoding)\n",
    "\n",
    "    df = pd.concat([df, df_one_hot_encoding], axis=1)\n",
    "    df.drop(column_name, axis=1, inplace=True)\n",
    "    return df "
   ]
  },
  {
   "cell_type": "code",
   "execution_count": 6,
   "metadata": {},
   "outputs": [
    {
     "name": "stdout",
     "output_type": "stream",
     "text": [
      "-> Vectorizer features \n",
      " ['apple', 'ball', 'cat', 'dog', 'elephant', 'fish', 'god']\n",
      "-> Vectors \n",
      " [[1 1 0 0 1 0 0]\n",
      " [0 0 1 1 0 0 1]\n",
      " [0 0 0 1 0 1 1]\n",
      " [1 1 0 0 1 0 0]\n",
      " [0 0 1 1 0 0 1]\n",
      " [0 0 0 1 0 1 1]\n",
      " [1 1 0 0 1 0 0]\n",
      " [0 0 1 1 0 0 1]\n",
      " [0 0 0 1 0 1 1]\n",
      " [1 1 0 0 1 0 0]]\n",
      "-> One Hot encoded values \n",
      "    apple  ball  cat  dog  elephant  fish  god\n",
      "0      1     1    0    0         1     0    0\n",
      "1      0     0    1    1         0     0    1\n",
      "2      0     0    0    1         0     1    1\n",
      "3      1     1    0    0         1     0    0\n",
      "4      0     0    1    1         0     0    1\n",
      "5      0     0    0    1         0     1    1\n",
      "6      1     1    0    0         1     0    0\n",
      "7      0     0    1    1         0     0    1\n",
      "8      0     0    0    1         0     1    1\n",
      "9      1     1    0    0         1     0    0\n",
      "Final Result \n",
      "     apple  ball  cat  dog  elephant  fish  god\n",
      "0      1     1    0    0         1     0    0\n",
      "1      0     0    1    1         0     0    1\n",
      "2      0     0    0    1         0     1    1\n",
      "3      1     1    0    0         1     0    0\n",
      "4      0     0    1    1         0     0    1\n",
      "5      0     0    0    1         0     1    1\n",
      "6      1     1    0    0         1     0    0\n",
      "7      0     0    1    1         0     0    1\n",
      "8      0     0    0    1         0     1    1\n",
      "9      1     1    0    0         1     0    0\n"
     ]
    },
    {
     "name": "stderr",
     "output_type": "stream",
     "text": [
      "C:\\Users\\Yogiraj\\AppData\\Roaming\\Python\\Python37\\site-packages\\sklearn\\utils\\deprecation.py:87: FutureWarning: Function get_feature_names is deprecated; get_feature_names is deprecated in 1.0 and will be removed in 1.2. Please use get_feature_names_out instead.\n",
      "  warnings.warn(msg, category=FutureWarning)\n"
     ]
    }
   ],
   "source": [
    "df = pd.DataFrame({'text' : ['apple ball elephant' , 'cat god dog' , 'fish god dog' , 'apple ball elephant' , 'cat god dog' , 'fish god dog' , 'apple ball elephant' , 'cat god dog' , 'fish god dog' , 'apple ball elephant']})\n",
    "df = create_count_vectorizer_values(df, 'text')\n",
    "print(\"Final Result \\n \",df)"
   ]
  },
  {
   "attachments": {},
   "cell_type": "markdown",
   "metadata": {},
   "source": [
    "### EXP 3 :term frequency-inverse document frequency (tf-idf)"
   ]
  },
  {
   "cell_type": "code",
   "execution_count": 7,
   "metadata": {},
   "outputs": [
    {
     "name": "stdout",
     "output_type": "stream",
     "text": [
      "-> Vectorizer features \n",
      " ['apple' 'ball' 'cat' 'dog' 'elephant' 'fish' 'god']\n",
      "-> Vectors \n",
      " [[0.57735027 0.57735027 0.         0.         0.57735027 0.\n",
      "  0.        ]\n",
      " [0.         0.         0.69979587 0.50511669 0.         0.\n",
      "  0.50511669]\n",
      " [0.         0.         0.         0.50511669 0.         0.69979587\n",
      "  0.50511669]\n",
      " [0.57735027 0.57735027 0.         0.         0.57735027 0.\n",
      "  0.        ]\n",
      " [0.         0.         0.69979587 0.50511669 0.         0.\n",
      "  0.50511669]\n",
      " [0.         0.         0.         0.50511669 0.         0.69979587\n",
      "  0.50511669]\n",
      " [0.57735027 0.57735027 0.         0.         0.57735027 0.\n",
      "  0.        ]\n",
      " [0.         0.         0.69979587 0.50511669 0.         0.\n",
      "  0.50511669]\n",
      " [0.         0.         0.         0.50511669 0.         0.69979587\n",
      "  0.50511669]\n",
      " [0.57735027 0.57735027 0.         0.         0.57735027 0.\n",
      "  0.        ]]\n",
      "==> Final Result \n",
      "       apple     ball       cat       dog  elephant      fish       god\n",
      "0  0.57735  0.57735  0.000000  0.000000   0.57735  0.000000  0.000000\n",
      "1  0.00000  0.00000  0.699796  0.505117   0.00000  0.000000  0.505117\n",
      "2  0.00000  0.00000  0.000000  0.505117   0.00000  0.699796  0.505117\n",
      "3  0.57735  0.57735  0.000000  0.000000   0.57735  0.000000  0.000000\n",
      "4  0.00000  0.00000  0.699796  0.505117   0.00000  0.000000  0.505117\n",
      "5  0.00000  0.00000  0.000000  0.505117   0.00000  0.699796  0.505117\n",
      "6  0.57735  0.57735  0.000000  0.000000   0.57735  0.000000  0.000000\n",
      "7  0.00000  0.00000  0.699796  0.505117   0.00000  0.000000  0.505117\n",
      "8  0.00000  0.00000  0.000000  0.505117   0.00000  0.699796  0.505117\n",
      "9  0.57735  0.57735  0.000000  0.000000   0.57735  0.000000  0.000000\n"
     ]
    }
   ],
   "source": [
    "from sklearn.feature_extraction.text import TfidfVectorizer\n",
    "\n",
    "def create_tfidf(df, column_name):\n",
    "    \n",
    "        vectorizer = TfidfVectorizer()\n",
    "        X = vectorizer.fit_transform(df[column_name])\n",
    "    \n",
    "        print(\"-> Vectorizer features \\n\" , vectorizer.get_feature_names_out())\n",
    "        print(\"-> Vectors \\n\" , X.toarray())\n",
    "    \n",
    "        df_tfidf = pd.DataFrame(X.toarray(), columns=vectorizer.get_feature_names_out())\n",
    "\n",
    "        return df_tfidf\n",
    "\n",
    "df_tfidf = pd.DataFrame({'text' : ['apple ball elephant' , 'cat god dog' , 'fish god dog' , 'apple ball elephant' , 'cat god dog' , 'fish god dog' , 'apple ball elephant' , 'cat god dog' , 'fish god dog' , 'apple ball elephant']})\n",
    "df_tfidf = create_tfidf(df_tfidf, 'text')\n",
    "print(\"==> Final Result \\n \",df_tfidf)"
   ]
  },
  {
   "cell_type": "code",
   "execution_count": null,
   "metadata": {},
   "outputs": [],
   "source": []
  }
 ],
 "metadata": {
  "kernelspec": {
   "display_name": "Python 3",
   "language": "python",
   "name": "python3"
  },
  "language_info": {
   "codemirror_mode": {
    "name": "ipython",
    "version": 3
   },
   "file_extension": ".py",
   "mimetype": "text/x-python",
   "name": "python",
   "nbconvert_exporter": "python",
   "pygments_lexer": "ipython3",
   "version": "3.7.9"
  },
  "orig_nbformat": 4,
  "vscode": {
   "interpreter": {
    "hash": "5109d816b82be14675a6b11f8e0f0d2e80f029176ed3710d54e125caa8520dfd"
   }
  }
 },
 "nbformat": 4,
 "nbformat_minor": 2
}
